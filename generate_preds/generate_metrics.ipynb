{
 "cells": [
  {
   "cell_type": "code",
   "execution_count": null,
   "metadata": {},
   "outputs": [],
   "source": [
    "import pandas as pd\n",
    "import joblib\n",
    "\n",
    "# Load the saved model and preprocessing objects\n",
    "model = joblib.load('fraud_detection_model.pkl')\n",
    "scaler = joblib.load('scaler.pkl')\n",
    "label_encoders = joblib.load('label_encoders.pkl')\n",
    "\n",
    "# Load the test dataset\n",
    "test_data = pd.read_csv('dataset.csv')\n",
    "\n",
    "# Drop unnecessary columns (adjust based on your preprocessing logic)\n",
    "columns_to_drop = ['transaction_id', 'datetime', 'expiration_date', 'Unnamed: 0']\n",
    "test_data = test_data.drop(columns=[col for col in columns_to_drop if col in test_data.columns])\n",
    "\n",
    "# Preprocess the test data\n",
    "for col, le in label_encoders.items():\n",
    "    if col in test_data.columns:\n",
    "        test_data[col] = le.transform(test_data[col])\n",
    "\n",
    "# Scale numeric features\n",
    "test_data_scaled = scaler.transform(test_data)\n",
    "\n",
    "# Predict fraud for each transaction\n",
    "predictions = model.predict(test_data_scaled)\n",
    "\n",
    "# Save predictions to preds.csv\n",
    "preds = pd.DataFrame({'is_fraud': predictions})\n",
    "preds.to_csv('preds_if.csv', index=False)\n",
    "\n",
    "print(\"Predictions saved to preds.csv\")"
   ]
  }
 ],
 "metadata": {
  "kernelspec": {
   "display_name": "Python 3",
   "language": "python",
   "name": "python3"
  },
  "language_info": {
   "name": "python",
   "version": "3.10.7"
  }
 },
 "nbformat": 4,
 "nbformat_minor": 2
}
